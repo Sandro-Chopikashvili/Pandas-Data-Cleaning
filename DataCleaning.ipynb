{
 "cells": [
  {
   "cell_type": "code",
   "execution_count": 204,
   "id": "c06d4def",
   "metadata": {},
   "outputs": [],
   "source": [
    "import pandas as pd\n",
    "import numpy as np\n",
    "import warnings\n",
    "warnings.filterwarnings('ignore', category=FutureWarning)\n",
    "warnings.filterwarnings(\"ignore\", message=\"This pattern is interpreted as a regular expression, and has match groups\")\n",
    "\n",
    "\n",
    "\n",
    "np.random.seed(42)\n",
    "df = pd.DataFrame({\n",
    "    'User_ID': np.arange(1, 1001).reshape(1000),\n",
    "    'Name': np.random.choice(['Alice', 'Bob', 'Charlie', 'David', None, 'Eve'], size=1000),\n",
    "    'Age': np.random.choice([25, 30, 35, 40, 45, np.nan, -1], size=1000),\n",
    "    'Email': np.random.choice(['user@example.com', 'test@domain.com', '', np.nan, 'invalidemail'], size=1000),\n",
    "    'Signup Date': np.random.choice(['2020-01-01', '2021-05-20', 'not_a_date', np.nan, '2022-03-15'], size=1000),\n",
    "    'Country': np.random.choice(['USA', 'us', 'Canada', 'CANADA', 'UK', 'N/A', np.nan], size=1000),\n",
    "    'Income': np.random.normal(50000, 15000, size=1000),\n",
    "    'Notes': np.random.choice(['Good', 'Bad', 'Average', np.nan, '', ' '], size=1000),\n",
    "    'Subscribed': np.random.choice(['yes', 'no', 'YES', 'No', 'n', 'Y', np.nan], size=1000)\n",
    "})"
   ]
  },
  {
   "cell_type": "code",
   "execution_count": 205,
   "id": "440f9153",
   "metadata": {},
   "outputs": [
    {
     "name": "stdout",
     "output_type": "stream",
     "text": [
      "Original shape: (1000, 9)\n",
      "After dropping duplicates: (1000, 9)\n"
     ]
    }
   ],
   "source": [
    "print(\"Original shape:\", df.shape)\n",
    "### 1. Dropping duplicate rows\n",
    "df = df.drop_duplicates()\n",
    "print(\"After dropping duplicates:\", df.shape)\n"
   ]
  },
  {
   "cell_type": "code",
   "execution_count": 206,
   "id": "4a567e57",
   "metadata": {},
   "outputs": [],
   "source": [
    "### 2. Missing values\n",
    "# Fill NaN values in 'Name' with 'Unknown'\n",
    "df['Name'] = df['Name'].fillna('Unknown')"
   ]
  },
  {
   "cell_type": "code",
   "execution_count": 207,
   "id": "19e55670",
   "metadata": {},
   "outputs": [],
   "source": [
    "# Replace negative or NaN ages with median age\n",
    "df['Age'] = df['Age'].replace(-1, np.nan)\n",
    "df['Age'] = df['Age'].fillna(df['Age'].median())"
   ]
  },
  {
   "cell_type": "code",
   "execution_count": 208,
   "id": "0e0ca18d",
   "metadata": {},
   "outputs": [],
   "source": [
    "# Drop rows with missing emails or empty emails\n",
    "df['Email'] = df['Email'].replace(['', 'nan'], np.nan)\n",
    "df = df.dropna(subset=['Email'])"
   ]
  },
  {
   "cell_type": "code",
   "execution_count": 209,
   "id": "43c60626",
   "metadata": {},
   "outputs": [],
   "source": [
    "### 3. Convert date column to datetime\n",
    "df['Signup Date'] = pd.to_datetime(df['Signup Date'], errors='coerce')\n",
    "df = df.dropna(subset=['Signup Date'])  # Drop rows where date conversion fail"
   ]
  },
  {
   "cell_type": "code",
   "execution_count": 210,
   "id": "a15face2",
   "metadata": {},
   "outputs": [],
   "source": [
    "### 4. Clean 'Country' column\n",
    "df['Country'] = df['Country'].str.upper().str.strip()\n",
    "df['Country'] = df['Country'].replace(['US'], 'USA')\n",
    "df['Country'] = df['Country'].replace(['N/A', 'NONE', '', np.nan], 'UNKNOWN')\n"
   ]
  },
  {
   "cell_type": "code",
   "execution_count": 211,
   "id": "2e3ada4c",
   "metadata": {},
   "outputs": [],
   "source": [
    "### 5. Clean 'Subscribed' column to boolean\n",
    "df['Subscribed'] = df['Subscribed'].str.lower().str.strip()\n",
    "df['Subscribed'] = df['Subscribed'].map({'yes': True, 'y': True, 'no': False, 'n': False})\n",
    "df['Subscribed'] = df['Subscribed'].fillna(False) "
   ]
  },
  {
   "cell_type": "code",
   "execution_count": 212,
   "id": "fff774a1",
   "metadata": {},
   "outputs": [],
   "source": [
    "### 6. Clean 'Notes' column (strip whitespace, fill missing)\n",
    "df['Notes'] = df['Notes'].astype(str).str.strip()\n",
    "df['Notes'] = df['Notes'].replace({'nan': 'No Notes', '': 'No Notes'})\n",
    "df['Notes'] = df['Notes'].fillna('No Notes')"
   ]
  },
  {
   "cell_type": "code",
   "execution_count": 213,
   "id": "f37b366e",
   "metadata": {},
   "outputs": [],
   "source": [
    "### 7. \n",
    "df['Signup_Year'] = df['Signup Date'].dt.year\n",
    "df['Is_USA'] = df['Country'] == 'USA'"
   ]
  },
  {
   "cell_type": "code",
   "execution_count": 214,
   "id": "ecf0e665",
   "metadata": {},
   "outputs": [],
   "source": [
    "### 8. Rename columns\n",
    "df = df.rename(columns={\n",
    "    'User_ID': 'UserID',\n",
    "    'Signup Date': 'Signup_Date',\n",
    "    'Income': 'Income_USD$',\n",
    "})"
   ]
  },
  {
   "cell_type": "code",
   "execution_count": 215,
   "id": "5d35deda",
   "metadata": {},
   "outputs": [],
   "source": [
    "### 9. Reorder columns\n",
    "columns_order = ['UserID', 'Name', 'Age', 'Email', 'Signup_Date', 'Signup_Year',\n",
    "                 'Country', 'Is_USA', 'Income_USD$', 'Subscribed', 'Notes']\n",
    "df = df[columns_order]"
   ]
  },
  {
   "cell_type": "code",
   "execution_count": 216,
   "id": "23339c7d",
   "metadata": {},
   "outputs": [],
   "source": [
    "### 10. Round Income \n",
    "df['Income_USD$'] = df['Income_USD$'].round()"
   ]
  },
  {
   "cell_type": "code",
   "execution_count": 217,
   "id": "416383c1",
   "metadata": {},
   "outputs": [],
   "source": [
    "### 11. Removing unnecessary rows\n",
    "df['Name'] = df['Name'].str.lower().str.strip()\n",
    "df['Email'] = df['Email'].str.lower().str.strip()\n",
    "bad_rows = df[(~df['Email'].str.contains('@')) | (df['Name'] == 'unknown') | (~df['Email'].str.contains('.')) | (~df['Email'].str.contains(r'\\.(com|ru|ge|us)$'))].index\n",
    "df = df.drop(index=bad_rows)\n"
   ]
  },
  {
   "cell_type": "code",
   "execution_count": null,
   "id": "0f226df4",
   "metadata": {},
   "outputs": [],
   "source": [
    "### 12. Capitalizing names\n",
    "df['Name'] = df['Name'].str.capitalize()\n"
   ]
  },
  {
   "cell_type": "code",
   "execution_count": null,
   "id": "4aaba50d",
   "metadata": {},
   "outputs": [],
   "source": [
    "### 13. Sort Values by UserID\n",
    "df = df.sort_values('UserID').reset_index(drop=True)"
   ]
  },
  {
   "cell_type": "code",
   "execution_count": 220,
   "id": "7890c8c8",
   "metadata": {},
   "outputs": [
    {
     "data": {
      "text/html": [
       "<div>\n",
       "<style scoped>\n",
       "    .dataframe tbody tr th:only-of-type {\n",
       "        vertical-align: middle;\n",
       "    }\n",
       "\n",
       "    .dataframe tbody tr th {\n",
       "        vertical-align: top;\n",
       "    }\n",
       "\n",
       "    .dataframe thead th {\n",
       "        text-align: right;\n",
       "    }\n",
       "</style>\n",
       "<table border=\"1\" class=\"dataframe\">\n",
       "  <thead>\n",
       "    <tr style=\"text-align: right;\">\n",
       "      <th></th>\n",
       "      <th>UserID</th>\n",
       "      <th>Name</th>\n",
       "      <th>Age</th>\n",
       "      <th>Email</th>\n",
       "      <th>Signup_Date</th>\n",
       "      <th>Signup_Year</th>\n",
       "      <th>Country</th>\n",
       "      <th>Is_USA</th>\n",
       "      <th>Income_USD$</th>\n",
       "      <th>Subscribed</th>\n",
       "      <th>Notes</th>\n",
       "    </tr>\n",
       "  </thead>\n",
       "  <tbody>\n",
       "    <tr>\n",
       "      <th>0</th>\n",
       "      <td>1</td>\n",
       "      <td>David</td>\n",
       "      <td>35.0</td>\n",
       "      <td>test@domain.com</td>\n",
       "      <td>2021-05-20</td>\n",
       "      <td>2021</td>\n",
       "      <td>CANADA</td>\n",
       "      <td>False</td>\n",
       "      <td>34872.0</td>\n",
       "      <td>False</td>\n",
       "      <td>Average</td>\n",
       "    </tr>\n",
       "    <tr>\n",
       "      <th>1</th>\n",
       "      <td>6</td>\n",
       "      <td>Bob</td>\n",
       "      <td>40.0</td>\n",
       "      <td>user@example.com</td>\n",
       "      <td>2020-01-01</td>\n",
       "      <td>2020</td>\n",
       "      <td>USA</td>\n",
       "      <td>True</td>\n",
       "      <td>46048.0</td>\n",
       "      <td>True</td>\n",
       "      <td>Good</td>\n",
       "    </tr>\n",
       "    <tr>\n",
       "      <th>2</th>\n",
       "      <td>9</td>\n",
       "      <td>Charlie</td>\n",
       "      <td>35.0</td>\n",
       "      <td>test@domain.com</td>\n",
       "      <td>2020-01-01</td>\n",
       "      <td>2020</td>\n",
       "      <td>UNKNOWN</td>\n",
       "      <td>False</td>\n",
       "      <td>45058.0</td>\n",
       "      <td>True</td>\n",
       "      <td>No Notes</td>\n",
       "    </tr>\n",
       "    <tr>\n",
       "      <th>3</th>\n",
       "      <td>13</td>\n",
       "      <td>Eve</td>\n",
       "      <td>35.0</td>\n",
       "      <td>user@example.com</td>\n",
       "      <td>2022-03-15</td>\n",
       "      <td>2022</td>\n",
       "      <td>USA</td>\n",
       "      <td>True</td>\n",
       "      <td>57039.0</td>\n",
       "      <td>True</td>\n",
       "      <td>Bad</td>\n",
       "    </tr>\n",
       "    <tr>\n",
       "      <th>4</th>\n",
       "      <td>25</td>\n",
       "      <td>Eve</td>\n",
       "      <td>40.0</td>\n",
       "      <td>test@domain.com</td>\n",
       "      <td>2021-05-20</td>\n",
       "      <td>2021</td>\n",
       "      <td>NAN</td>\n",
       "      <td>False</td>\n",
       "      <td>59331.0</td>\n",
       "      <td>False</td>\n",
       "      <td>No Notes</td>\n",
       "    </tr>\n",
       "    <tr>\n",
       "      <th>5</th>\n",
       "      <td>29</td>\n",
       "      <td>Alice</td>\n",
       "      <td>35.0</td>\n",
       "      <td>user@example.com</td>\n",
       "      <td>2020-01-01</td>\n",
       "      <td>2020</td>\n",
       "      <td>CANADA</td>\n",
       "      <td>False</td>\n",
       "      <td>80184.0</td>\n",
       "      <td>False</td>\n",
       "      <td>No Notes</td>\n",
       "    </tr>\n",
       "    <tr>\n",
       "      <th>6</th>\n",
       "      <td>33</td>\n",
       "      <td>David</td>\n",
       "      <td>35.0</td>\n",
       "      <td>user@example.com</td>\n",
       "      <td>2021-05-20</td>\n",
       "      <td>2021</td>\n",
       "      <td>CANADA</td>\n",
       "      <td>False</td>\n",
       "      <td>52173.0</td>\n",
       "      <td>True</td>\n",
       "      <td>No Notes</td>\n",
       "    </tr>\n",
       "    <tr>\n",
       "      <th>7</th>\n",
       "      <td>34</td>\n",
       "      <td>David</td>\n",
       "      <td>35.0</td>\n",
       "      <td>user@example.com</td>\n",
       "      <td>2020-01-01</td>\n",
       "      <td>2020</td>\n",
       "      <td>UK</td>\n",
       "      <td>False</td>\n",
       "      <td>50359.0</td>\n",
       "      <td>True</td>\n",
       "      <td>No Notes</td>\n",
       "    </tr>\n",
       "    <tr>\n",
       "      <th>8</th>\n",
       "      <td>38</td>\n",
       "      <td>Charlie</td>\n",
       "      <td>35.0</td>\n",
       "      <td>test@domain.com</td>\n",
       "      <td>2021-05-20</td>\n",
       "      <td>2021</td>\n",
       "      <td>USA</td>\n",
       "      <td>True</td>\n",
       "      <td>72986.0</td>\n",
       "      <td>False</td>\n",
       "      <td>No Notes</td>\n",
       "    </tr>\n",
       "    <tr>\n",
       "      <th>9</th>\n",
       "      <td>41</td>\n",
       "      <td>Alice</td>\n",
       "      <td>35.0</td>\n",
       "      <td>user@example.com</td>\n",
       "      <td>2021-05-20</td>\n",
       "      <td>2021</td>\n",
       "      <td>CANADA</td>\n",
       "      <td>False</td>\n",
       "      <td>55515.0</td>\n",
       "      <td>False</td>\n",
       "      <td>Average</td>\n",
       "    </tr>\n",
       "  </tbody>\n",
       "</table>\n",
       "</div>"
      ],
      "text/plain": [
       "   UserID     Name   Age             Email Signup_Date  Signup_Year  Country  \\\n",
       "0       1    David  35.0   test@domain.com  2021-05-20         2021   CANADA   \n",
       "1       6      Bob  40.0  user@example.com  2020-01-01         2020      USA   \n",
       "2       9  Charlie  35.0   test@domain.com  2020-01-01         2020  UNKNOWN   \n",
       "3      13      Eve  35.0  user@example.com  2022-03-15         2022      USA   \n",
       "4      25      Eve  40.0   test@domain.com  2021-05-20         2021      NAN   \n",
       "5      29    Alice  35.0  user@example.com  2020-01-01         2020   CANADA   \n",
       "6      33    David  35.0  user@example.com  2021-05-20         2021   CANADA   \n",
       "7      34    David  35.0  user@example.com  2020-01-01         2020       UK   \n",
       "8      38  Charlie  35.0   test@domain.com  2021-05-20         2021      USA   \n",
       "9      41    Alice  35.0  user@example.com  2021-05-20         2021   CANADA   \n",
       "\n",
       "   Is_USA  Income_USD$  Subscribed     Notes  \n",
       "0   False      34872.0       False   Average  \n",
       "1    True      46048.0        True      Good  \n",
       "2   False      45058.0        True  No Notes  \n",
       "3    True      57039.0        True       Bad  \n",
       "4   False      59331.0       False  No Notes  \n",
       "5   False      80184.0       False  No Notes  \n",
       "6   False      52173.0        True  No Notes  \n",
       "7   False      50359.0        True  No Notes  \n",
       "8    True      72986.0       False  No Notes  \n",
       "9   False      55515.0       False   Average  "
      ]
     },
     "execution_count": 220,
     "metadata": {},
     "output_type": "execute_result"
    }
   ],
   "source": [
    "### Result\n",
    "df.head(10)"
   ]
  }
 ],
 "metadata": {
  "kernelspec": {
   "display_name": "Python 3",
   "language": "python",
   "name": "python3"
  },
  "language_info": {
   "codemirror_mode": {
    "name": "ipython",
    "version": 3
   },
   "file_extension": ".py",
   "mimetype": "text/x-python",
   "name": "python",
   "nbconvert_exporter": "python",
   "pygments_lexer": "ipython3",
   "version": "3.11.9"
  }
 },
 "nbformat": 4,
 "nbformat_minor": 5
}
