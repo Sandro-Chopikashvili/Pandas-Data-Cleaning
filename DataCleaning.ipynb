{
 "cells": [
  {
   "cell_type": "code",
   "execution_count": 157,
   "id": "c06d4def",
   "metadata": {},
   "outputs": [],
   "source": [
    "import pandas as pd\n",
    "import numpy as np\n",
    "\n",
    "np.random.seed(42)\n",
    "df = pd.DataFrame({\n",
    "    'User_ID': np.arange(1, 1001).reshape(1000),\n",
    "    'Name': np.random.choice(['Alice', 'Bob', 'Charlie', 'David', None, 'Eve'], size=1000),\n",
    "    'Age': np.random.choice([25, 30, 35, 40, 45, np.nan, -1], size=1000),\n",
    "    'Email': np.random.choice(['user@example.com', 'test@domain.com', '', np.nan, 'invalidemail'], size=1000),\n",
    "    'Signup Date': np.random.choice(['2020-01-01', '2021-05-20', 'not_a_date', np.nan, '2022-03-15'], size=1000),\n",
    "    'Country': np.random.choice(['USA', 'us', 'Canada', 'CANADA', 'UK', 'N/A', np.nan], size=1000),\n",
    "    'Income': np.random.normal(50000, 15000, size=1000),\n",
    "    'Notes': np.random.choice(['Good', 'Bad', 'Average', np.nan, '', ' '], size=1000),\n",
    "    'Subscribed': np.random.choice(['yes', 'no', 'YES', 'No', 'n', 'Y', np.nan], size=1000)\n",
    "})"
   ]
  },
  {
   "cell_type": "code",
   "execution_count": 158,
   "id": "440f9153",
   "metadata": {},
   "outputs": [
    {
     "name": "stdout",
     "output_type": "stream",
     "text": [
      "Original shape: (1000, 9)\n",
      "After dropping duplicates: (1000, 9)\n"
     ]
    }
   ],
   "source": [
    "print(\"Original shape:\", df.shape)\n",
    "### 1. Dropping duplicate rows\n",
    "df = df.drop_duplicates()\n",
    "print(\"After dropping duplicates:\", df.shape)\n"
   ]
  },
  {
   "cell_type": "code",
   "execution_count": 159,
   "id": "4a567e57",
   "metadata": {},
   "outputs": [],
   "source": [
    "### 2. Missing values\n",
    "# Fill NaN values in 'Name' with 'Unknown'\n",
    "df['Name'] = df['Name'].fillna('Unknown')"
   ]
  },
  {
   "cell_type": "code",
   "execution_count": 160,
   "id": "19e55670",
   "metadata": {},
   "outputs": [],
   "source": [
    "# Replace negative or NaN ages with median age\n",
    "df['Age'] = df['Age'].replace(-1, np.nan)\n",
    "df['Age'] = df['Age'].fillna(df['Age'].median())"
   ]
  },
  {
   "cell_type": "code",
   "execution_count": 161,
   "id": "0e0ca18d",
   "metadata": {},
   "outputs": [],
   "source": [
    "# Drop rows with missing emails or empty emails\n",
    "df['Email'] = df['Email'].replace(['', 'nan'], np.nan)\n",
    "df = df.dropna(subset=['Email'])"
   ]
  },
  {
   "cell_type": "code",
   "execution_count": 162,
   "id": "43c60626",
   "metadata": {},
   "outputs": [],
   "source": [
    "### 3. Convert date column to datetime\n",
    "df['Signup Date'] = pd.to_datetime(df['Signup Date'], errors='coerce')\n",
    "df = df.dropna(subset=['Signup Date'])  # Drop rows where date conversion fail"
   ]
  },
  {
   "cell_type": "code",
   "execution_count": 163,
   "id": "a15face2",
   "metadata": {},
   "outputs": [],
   "source": [
    "### 4. Clean 'Country' column\n",
    "df['Country'] = df['Country'].str.upper().str.strip()\n",
    "df['Country'] = df['Country'].replace(['US'], 'USA')\n",
    "df['Country'] = df['Country'].replace(['N/A', 'NONE', '', np.nan], 'UNKNOWN')\n"
   ]
  },
  {
   "cell_type": "code",
   "execution_count": 164,
   "id": "2e3ada4c",
   "metadata": {},
   "outputs": [
    {
     "name": "stderr",
     "output_type": "stream",
     "text": [
      "C:\\Users\\Sandriko\\AppData\\Local\\Temp\\ipykernel_3492\\1922157465.py:4: FutureWarning: Downcasting object dtype arrays on .fillna, .ffill, .bfill is deprecated and will change in a future version. Call result.infer_objects(copy=False) instead. To opt-in to the future behavior, set `pd.set_option('future.no_silent_downcasting', True)`\n",
      "  df['Subscribed'] = df['Subscribed'].fillna(False)\n"
     ]
    }
   ],
   "source": [
    "### 5. Clean 'Subscribed' column to boolean\n",
    "df['Subscribed'] = df['Subscribed'].str.lower().str.strip()\n",
    "df['Subscribed'] = df['Subscribed'].map({'yes': True, 'y': True, 'no': False, 'n': False})\n",
    "df['Subscribed'] = df['Subscribed'].fillna(False) "
   ]
  },
  {
   "cell_type": "code",
   "execution_count": 165,
   "id": "fff774a1",
   "metadata": {},
   "outputs": [],
   "source": [
    "### 6. Clean 'Notes' column (strip whitespace, fill missing)\n",
    "df['Notes'] = df['Notes'].astype(str).str.strip()\n",
    "df['Notes'] = df['Notes'].replace({'nan': 'No Notes', '': 'No Notes'})\n",
    "df['Notes'] = df['Notes'].fillna('No Notes')"
   ]
  },
  {
   "cell_type": "code",
   "execution_count": 166,
   "id": "f37b366e",
   "metadata": {},
   "outputs": [],
   "source": [
    "### 7. \n",
    "df['Signup_Year'] = df['Signup Date'].dt.year\n",
    "df['Is_USA'] = df['Country'] == 'USA'"
   ]
  },
  {
   "cell_type": "code",
   "execution_count": 167,
   "id": "ecf0e665",
   "metadata": {},
   "outputs": [],
   "source": [
    "### 8. Rename columns\n",
    "df = df.rename(columns={\n",
    "    'User_ID': 'UserID',\n",
    "    'Signup Date': 'SignupDate'\n",
    "})"
   ]
  },
  {
   "cell_type": "code",
   "execution_count": 168,
   "id": "5d35deda",
   "metadata": {},
   "outputs": [],
   "source": [
    "### 9. Reorder columns\n",
    "columns_order = ['UserID', 'Name', 'Age', 'Email', 'SignupDate', 'Signup_Year',\n",
    "                 'Country', 'Is_USA', 'Income', 'Subscribed', 'Notes']\n",
    "df = df[columns_order]"
   ]
  },
  {
   "cell_type": "code",
   "execution_count": 169,
   "id": "23339c7d",
   "metadata": {},
   "outputs": [],
   "source": [
    "### 10. Round Income \n",
    "df['Income'] = df['Income'].round()\n",
    "df.rename(columns=({'Income': 'Income_USD$'}), inplace=True)"
   ]
  },
  {
   "cell_type": "code",
   "execution_count": 170,
   "id": "4aaba50d",
   "metadata": {},
   "outputs": [],
   "source": [
    "### 11. Sort Values by UserID\n",
    "df = df.sort_values('UserID').reset_index(drop=True)"
   ]
  },
  {
   "cell_type": "code",
   "execution_count": 171,
   "id": "7890c8c8",
   "metadata": {},
   "outputs": [
    {
     "data": {
      "text/html": [
       "<div>\n",
       "<style scoped>\n",
       "    .dataframe tbody tr th:only-of-type {\n",
       "        vertical-align: middle;\n",
       "    }\n",
       "\n",
       "    .dataframe tbody tr th {\n",
       "        vertical-align: top;\n",
       "    }\n",
       "\n",
       "    .dataframe thead th {\n",
       "        text-align: right;\n",
       "    }\n",
       "</style>\n",
       "<table border=\"1\" class=\"dataframe\">\n",
       "  <thead>\n",
       "    <tr style=\"text-align: right;\">\n",
       "      <th></th>\n",
       "      <th>UserID</th>\n",
       "      <th>Name</th>\n",
       "      <th>Age</th>\n",
       "      <th>Email</th>\n",
       "      <th>SignupDate</th>\n",
       "      <th>Signup_Year</th>\n",
       "      <th>Country</th>\n",
       "      <th>Is_USA</th>\n",
       "      <th>Income_USD$</th>\n",
       "      <th>Subscribed</th>\n",
       "      <th>Notes</th>\n",
       "    </tr>\n",
       "  </thead>\n",
       "  <tbody>\n",
       "    <tr>\n",
       "      <th>0</th>\n",
       "      <td>1</td>\n",
       "      <td>David</td>\n",
       "      <td>35.0</td>\n",
       "      <td>test@domain.com</td>\n",
       "      <td>2021-05-20</td>\n",
       "      <td>2021</td>\n",
       "      <td>CANADA</td>\n",
       "      <td>False</td>\n",
       "      <td>34872.0</td>\n",
       "      <td>False</td>\n",
       "      <td>Average</td>\n",
       "    </tr>\n",
       "    <tr>\n",
       "      <th>1</th>\n",
       "      <td>4</td>\n",
       "      <td>Unknown</td>\n",
       "      <td>35.0</td>\n",
       "      <td>invalidemail</td>\n",
       "      <td>2021-05-20</td>\n",
       "      <td>2021</td>\n",
       "      <td>CANADA</td>\n",
       "      <td>False</td>\n",
       "      <td>26528.0</td>\n",
       "      <td>False</td>\n",
       "      <td>No Notes</td>\n",
       "    </tr>\n",
       "    <tr>\n",
       "      <th>2</th>\n",
       "      <td>6</td>\n",
       "      <td>Bob</td>\n",
       "      <td>40.0</td>\n",
       "      <td>user@example.com</td>\n",
       "      <td>2020-01-01</td>\n",
       "      <td>2020</td>\n",
       "      <td>USA</td>\n",
       "      <td>True</td>\n",
       "      <td>46048.0</td>\n",
       "      <td>True</td>\n",
       "      <td>Good</td>\n",
       "    </tr>\n",
       "    <tr>\n",
       "      <th>3</th>\n",
       "      <td>9</td>\n",
       "      <td>Charlie</td>\n",
       "      <td>35.0</td>\n",
       "      <td>test@domain.com</td>\n",
       "      <td>2020-01-01</td>\n",
       "      <td>2020</td>\n",
       "      <td>UNKNOWN</td>\n",
       "      <td>False</td>\n",
       "      <td>45058.0</td>\n",
       "      <td>True</td>\n",
       "      <td>No Notes</td>\n",
       "    </tr>\n",
       "    <tr>\n",
       "      <th>4</th>\n",
       "      <td>13</td>\n",
       "      <td>Eve</td>\n",
       "      <td>35.0</td>\n",
       "      <td>user@example.com</td>\n",
       "      <td>2022-03-15</td>\n",
       "      <td>2022</td>\n",
       "      <td>USA</td>\n",
       "      <td>True</td>\n",
       "      <td>57039.0</td>\n",
       "      <td>True</td>\n",
       "      <td>Bad</td>\n",
       "    </tr>\n",
       "  </tbody>\n",
       "</table>\n",
       "</div>"
      ],
      "text/plain": [
       "   UserID     Name   Age             Email SignupDate  Signup_Year  Country  \\\n",
       "0       1    David  35.0   test@domain.com 2021-05-20         2021   CANADA   \n",
       "1       4  Unknown  35.0      invalidemail 2021-05-20         2021   CANADA   \n",
       "2       6      Bob  40.0  user@example.com 2020-01-01         2020      USA   \n",
       "3       9  Charlie  35.0   test@domain.com 2020-01-01         2020  UNKNOWN   \n",
       "4      13      Eve  35.0  user@example.com 2022-03-15         2022      USA   \n",
       "\n",
       "   Is_USA  Income_USD$  Subscribed     Notes  \n",
       "0   False      34872.0       False   Average  \n",
       "1   False      26528.0       False  No Notes  \n",
       "2    True      46048.0        True      Good  \n",
       "3   False      45058.0        True  No Notes  \n",
       "4    True      57039.0        True       Bad  "
      ]
     },
     "execution_count": 171,
     "metadata": {},
     "output_type": "execute_result"
    }
   ],
   "source": [
    "### Result\n",
    "df.head()"
   ]
  }
 ],
 "metadata": {
  "kernelspec": {
   "display_name": "Python 3",
   "language": "python",
   "name": "python3"
  },
  "language_info": {
   "codemirror_mode": {
    "name": "ipython",
    "version": 3
   },
   "file_extension": ".py",
   "mimetype": "text/x-python",
   "name": "python",
   "nbconvert_exporter": "python",
   "pygments_lexer": "ipython3",
   "version": "3.11.9"
  }
 },
 "nbformat": 4,
 "nbformat_minor": 5
}
